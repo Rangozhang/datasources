{
 "cells": [
  {
   "cell_type": "code",
   "execution_count": 6,
   "metadata": {
    "collapsed": false
   },
   "outputs": [
    {
     "data": {
      "text/plain": [
       "{\n",
       "  nInputFrames : 5\n",
       "  datapath : /home/yu/ws_torch/dataset/UCF101/videos\n",
       "  listpath : /home/yu/ws_torch/dataset/UCF101/ucfTrainTestlist\n",
       "}\n"
      ]
     },
     "execution_count": 6,
     "metadata": {},
     "output_type": "execute_result"
    },
    {
     "ename": "/home/yu/tools/torch/install/share/lua/5.1/torch/Tensor.lua:457: expecting a contiguous tensor\nstack traceback:\n\t[C]: in function 'assert'\n\t/home/yu/tools/torch/install/share/lua/5.1/torch/Tensor.lua:457: in function 'flatten3d'\n\t../../datasources/augment.lua:121: in function 'resize'\n\t../../datasources/augment.lua:207: in function 'nextBatch'\n\t/home/yu/ws_torch/baseline/datasources/test/test_ucf101.lua:13: in main chunk\n\t[C]: in function 'f'\n\t[string \"local f = function() return paths.dofile('tes...\"]:1: in main chunk\n\t[C]: in function 'xpcall'\n\t/home/yu/tools/torch/install/share/lua/5.1/itorch/main.lua:179: in function </home/yu/tools/torch/install/share/lua/5.1/itorch/main.lua:143>\n\t/home/yu/tools/torch/install/share/lua/5.1/lzmq/poller.lua:75: in function 'poll'\n\t.../yu/tools/torch/install/share/lua/5.1/lzmq/impl/loop.lua:307: in function 'poll'\n\t.../yu/tools/torch/install/share/lua/5.1/lzmq/impl/loop.lua:325: in function 'sleep_ex'\n\t.../yu/tools/torch/install/share/lua/5.1/lzmq/impl/loop.lua:370: in function 'start'\n\t/home/yu/tools/torch/install/share/lua/5.1/itorch/main.lua:350: in main chunk\n\t[C]: in function 'require'\n\t(command line):1: in main chunk\n\t[C]: at 0x00406670",
     "evalue": "",
     "output_type": "error",
     "traceback": [
      "/home/yu/tools/torch/install/share/lua/5.1/torch/Tensor.lua:457: expecting a contiguous tensor\nstack traceback:\n\t[C]: in function 'assert'\n\t/home/yu/tools/torch/install/share/lua/5.1/torch/Tensor.lua:457: in function 'flatten3d'\n\t../../datasources/augment.lua:121: in function 'resize'\n\t../../datasources/augment.lua:207: in function 'nextBatch'\n\t/home/yu/ws_torch/baseline/datasources/test/test_ucf101.lua:13: in main chunk\n\t[C]: in function 'f'\n\t[string \"local f = function() return paths.dofile('tes...\"]:1: in main chunk\n\t[C]: in function 'xpcall'\n\t/home/yu/tools/torch/install/share/lua/5.1/itorch/main.lua:179: in function </home/yu/tools/torch/install/share/lua/5.1/itorch/main.lua:143>\n\t/home/yu/tools/torch/install/share/lua/5.1/lzmq/poller.lua:75: in function 'poll'\n\t.../yu/tools/torch/install/share/lua/5.1/lzmq/impl/loop.lua:307: in function 'poll'\n\t.../yu/tools/torch/install/share/lua/5.1/lzmq/impl/loop.lua:325: in function 'sleep_ex'\n\t.../yu/tools/torch/install/share/lua/5.1/lzmq/impl/loop.lua:370: in function 'start'\n\t/home/yu/tools/torch/install/share/lua/5.1/itorch/main.lua:350: in main chunk\n\t[C]: in function 'require'\n\t(command line):1: in main chunk\n\t[C]: at 0x00406670"
     ]
    }
   ],
   "source": [
    "paths.dofile('test_ucf101.lua')"
   ]
  }
 ],
 "metadata": {
  "kernelspec": {
   "display_name": "iTorch",
   "language": "lua",
   "name": "itorch"
  },
  "language_info": {
   "name": "lua",
   "version": "20100"
  }
 },
 "nbformat": 4,
 "nbformat_minor": 0
}
